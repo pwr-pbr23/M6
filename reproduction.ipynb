{
 "cells": [
  {
   "cell_type": "markdown",
   "metadata": {
    "id": "hvzo6h6UI9E_"
   },
   "source": [
    "## *WARNING*\n",
    "<ins>Before running this script make sure that you followed steps described [here](https://github.com/pwr-pbr23/M6#preparation-for-reproduction).</ins>\n",
    "## Accessing files for reproduction\n",
    "To access files we need to mount google drive and change working directory. To mount drive a pop up window will appear - follow necessary steps."
   ]
  },
  {
   "cell_type": "code",
   "execution_count": null,
   "metadata": {
    "id": "wyzEbueMsX_5"
   },
   "outputs": [],
   "source": [
    "from google.colab import drive\n",
    "drive.mount('/content/drive')"
   ]
  },
  {
   "cell_type": "markdown",
   "metadata": {
    "id": "JRAACFDoKEt0"
   },
   "source": [
    "## Installing necessary libraries - 2 min\n",
    "Since we mounted google collab we do not need to repeat all the steps each time, since the result files are permanently saved, howerer when it comes to installing libaries this step <ins>needs to be run before each new session</ins>."
   ]
  },
  {
   "cell_type": "code",
   "source": [
    "!pip install -q condacolab\n",
    "import condacolab\n",
    "condacolab.install()\n",
    "!conda env create -f /content/drive/MyDrive/M6/DeepLineDP/requirements.yml"
   ],
   "metadata": {
    "id": "j8h5-VDjIr8Y"
   },
   "execution_count": null,
   "outputs": []
  },
  {
   "cell_type": "code",
   "source": [
    "%%bash\n",
    "source activate DeepLineDP_env\n",
    "pip install torch torchvision torchaudio"
   ],
   "metadata": {
    "id": "Gd90gQ6LnWQw"
   },
   "execution_count": null,
   "outputs": []
  },
  {
   "cell_type": "markdown",
   "source": [
    "## Change working directory"
   ],
   "metadata": {
    "id": "IUl3oCTfDC1v"
   }
  },
  {
   "cell_type": "code",
   "execution_count": null,
   "metadata": {
    "id": "jb96RTReR6ZG"
   },
   "outputs": [],
   "source": [
    "%cd /content/drive/MyDrive/M6/DeepLineDP/script"
   ]
  },
  {
   "cell_type": "code",
   "execution_count": null,
   "metadata": {
    "id": "xkwI6Dzu0aCJ"
   },
   "outputs": [],
   "source": [
    "!ls"
   ]
  },
  {
   "cell_type": "markdown",
   "metadata": {
    "id": "q6rRLsBA6Dt7"
   },
   "source": [
    "The previous line should've returned:\n",
    "\n",
    "```\n",
    "condacolab_install.log\t\t\tmy_util.py\n",
    "DeepLineDP_model.py\t\t\tnew_preprocessing_methods.py\n",
    "export_data_for_line_level_baseline.py\tpreprocess_data.py\n",
    "file-level-baseline\t\t\t__pycache__\n",
    "generate_prediction_cross_projects.py\tRplots.pdf\n",
    "generate_prediction.py\t\t\trun_py_files.ipynb\n",
    "get_evaluation_result.R\t\t\ttrain_model.py\n",
    "line-level-baseline\t\t\ttrain_word2vec.py\n",
    "```"
   ]
  },
  {
   "cell_type": "markdown",
   "metadata": {
    "id": "l02WDONpygeF"
   },
   "source": [
    "## preprocess_data.py - 9 min\n",
    "Data prepared for training models is saved in `/content/drive/MyDrive/M6/DeepLineDP/datasets/preprocessed_data`."
   ]
  },
  {
   "cell_type": "code",
   "execution_count": null,
   "metadata": {
    "id": "FXV_nJ7c4QS0"
   },
   "outputs": [],
   "source": [
    "%%bash\n",
    "source activate DeepLineDP_env\n",
    "python preprocess_data.py"
   ]
  },
  {
   "cell_type": "markdown",
   "metadata": {
    "id": "VO9UsCfHtZv7"
   },
   "source": [
    "## train_word2vec.py - 3 min\n",
    "It creates word2vec model, which is saved in `/content/drive/MyDrive/M6/DeepLineDP/output/Word2Vec_model`."
   ]
  },
  {
   "cell_type": "code",
   "execution_count": null,
   "metadata": {
    "id": "UsXFYQ154AXw"
   },
   "outputs": [],
   "source": [
    "%%bash\n",
    "source activate DeepLineDP_env\n",
    "\n",
    "python train_word2vec.py activemq\n",
    "# python train_word2vec.py camel\n",
    "# python train_word2vec.py derby\n",
    "# python train_word2vec.py groovy\n",
    "# python train_word2vec.py hbase\n",
    "# python train_word2vec.py hive\n",
    "# python train_word2vec.py jruby\n",
    "# python train_word2vec.py lucene\n",
    "# python train_word2vec.py wicket"
   ]
  },
  {
   "cell_type": "markdown",
   "metadata": {
    "id": "J8dZV7mft2Sd"
   },
   "source": [
    "## train_model.py - 51 min\n",
    "Trains model and saves model along with loss (.csv).\n",
    "\n",
    "| Output | saved location                                                 |\n",
    "|--------|----------------------------------------------------------------|\n",
    "| model  | `/content/drive/MyDrive/M6/DeepLineDP/output/model/DeepLineDP` |\n",
    "| loss   | `/content/drive/MyDrive/M6/DeepLineDP/output/loss/DeepLineDP`  |\n"
   ]
  },
  {
   "cell_type": "code",
   "execution_count": null,
   "metadata": {
    "id": "UXpYIMNs4CAk"
   },
   "outputs": [],
   "source": [
    "%%bash\n",
    "source activate DeepLineDP_env\n",
    "\n",
    "python train_model.py -dataset activemq\n",
    "# python train_model.py -dataset camel\n",
    "# python train_model.py -dataset derby\n",
    "# python train_model.py -dataset groovy\n",
    "# python train_model.py -dataset hbase\n",
    "# python train_model.py -dataset hive\n",
    "# python train_model.py -dataset jruby\n",
    "# python train_model.py -dataset lucene\n",
    "# python train_model.py -dataset wicket"
   ]
  },
  {
   "cell_type": "markdown",
   "metadata": {
    "id": "-ozgi049u-fR"
   },
   "source": [
    "## generate_prediction.py - 14 min\n",
    "\n",
    "| generated files | saved location                                             |\n",
    "|-----------------|------------------------------------------------------------|\n",
    "| output          | `/content/drive/MyDrive/M6/DeepLineDP/output/intermediate_output/DeepLineDP/within-release/` |\n",
    "| prediction      | `/content/drive/MyDrive/M6/DeepLineDP/output/prediction/DeepLineDP/within-release/`          |\n"
   ]
  },
  {
   "cell_type": "code",
   "execution_count": null,
   "metadata": {
    "id": "gSp8MpVtG1Pq"
   },
   "outputs": [],
   "source": [
    "%%bash\n",
    "source activate DeepLineDP_env\n",
    "\n",
    "python generate_prediction.py -dataset activemq\n",
    "# python generate_prediction.py -dataset camel\n",
    "# python generate_prediction.py -dataset derby\n",
    "# python generate_prediction.py -dataset groovy\n",
    "# python generate_prediction.py -dataset hbase\n",
    "# python generate_prediction.py -dataset hive\n",
    "# python generate_prediction.py -dataset jruby\n",
    "# python generate_prediction.py -dataset lucene\n",
    "# python generate_prediction.py -dataset wicket"
   ]
  },
  {
   "cell_type": "markdown",
   "metadata": {
    "id": "FW8SNCrbwziZ"
   },
   "source": [
    "## generate_prediction_cross_projects.py - 1h\n",
    "\n",
    "| generated files | saved location                                             |\n",
    "|-----------------|------------------------------------------------------------|\n",
    "| output          | `/content/drive/MyDrive/M6/DeepLineDP/output/intermediate_output/DeepLineDP/cross-project/` |\n",
    "| prediction      | `/content/drive/MyDrive/M6/DeepLineDP/output/prediction/DeepLineDP/cross-project/`          |\n"
   ]
  },
  {
   "cell_type": "code",
   "execution_count": null,
   "metadata": {
    "id": "YlEeZxwqRUBu"
   },
   "outputs": [],
   "source": [
    "%%bash\n",
    "source activate DeepLineDP_env\n",
    "\n",
    "python generate_prediction_cross_projects.py -dataset activemq\n",
    "# python generate_prediction_cross_projects.py -dataset camel\n",
    "# python generate_prediction_cross_projects.py -dataset derby\n",
    "# python generate_prediction_cross_projects.py -dataset groovy\n",
    "# python generate_prediction_cross_projects.py -dataset hbase\n",
    "# python generate_prediction_cross_projects.py -dataset hive\n",
    "# python generate_prediction_cross_projects.py -dataset jruby\n",
    "# python generate_prediction_cross_projects.py -dataset lucene\n",
    "# python generate_prediction_cross_projects.py -dataset wicket"
   ]
  },
  {
   "cell_type": "markdown",
   "metadata": {
    "id": "T-pmaqoCXNNk"
   },
   "source": [
    "## Setup for running R script\n",
    "rpy2 is a library that makes it possible to run R scripts and code from jupyter notebook. To better understand the following setup and installation go to\n",
    "[this site](https://rpy2.github.io/doc/latest/html/interactive.html)."
   ]
  },
  {
   "cell_type": "code",
   "execution_count": null,
   "metadata": {
    "id": "QBXZcfcaBJzh"
   },
   "outputs": [],
   "source": [
    "!pip install rpy2==3.5.1\n",
    "%load_ext rpy2.ipython"
   ]
  },
  {
   "cell_type": "markdown",
   "metadata": {
    "id": "PVK_4UDwjdbt"
   },
   "source": [
    "## Installing R packages - 35 min\n",
    "\n",
    "Before this step reload might be required."
   ]
  },
  {
   "cell_type": "code",
   "execution_count": null,
   "metadata": {
    "id": "RBP9HOLrBY8L"
   },
   "outputs": [],
   "source": [
    "%R install.packages(\"tidyverse\", dependencies=TRUE)\n",
    "%R install.packages(\"gridExtra\", dependencies=TRUE)\n",
    "%R install.packages(\"ModelMetrics\", dependencies=TRUE)\n",
    "%R install.packages(\"caret\", dependencies=TRUE)\n",
    "%R install.packages(\"reshape2\", dependencies=TRUE)\n",
    "%R install.packages(\"pROC\", dependencies=TRUE)\n",
    "%R install.packages(\"effsize\", dependencies=TRUE)\n",
    "%R install.packages(\"ScottKnottESD\", dependencies=TRUE)"
   ]
  },
  {
   "cell_type": "markdown",
   "metadata": {
    "id": "dQgvrEszYcIv"
   },
   "source": [
    "## get_evaluation_result.R - 15 min\n",
    "The results from running this script aare saved in `/content/drive/MyDrive/M6/DeepLineDP/output/figure/` (graphs as .pdf files)"
   ]
  },
  {
   "cell_type": "code",
   "execution_count": null,
   "metadata": {
    "id": "d9OCA0AQQcjf"
   },
   "outputs": [],
   "source": [
    "!Rscript get_evaluation_result.R"
   ]
  },
  {
   "cell_type": "code",
   "execution_count": null,
   "metadata": {
    "id": "FdpOgII6coSA"
   },
   "outputs": [],
   "source": [
    "!sudo apt install imagemagick\n",
    "!pip install wand"
   ]
  },
  {
   "cell_type": "code",
   "execution_count": null,
   "metadata": {
    "id": "Qkklou53c-4r"
   },
   "outputs": [],
   "source": [
    "from IPython.display import Image, display\n",
    "\n",
    "figures = '/content/drive/MyDrive/M6/DeepLineDP/output/figure'\n",
    "listOfImageNames = [figures + '/file-Effort@Top20Recall.png',\n",
    "                    figures + '/file-Recall@Top20LOC.png',\n",
    "                    figures + '/file-IFA.png']\n",
    "\n",
    "for imageName in listOfImageNames:\n",
    "  print(imageName)\n",
    "  display(Image(filename=imageName))"
   ]
  }
 ],
 "metadata": {
  "colab": {
   "provenance": [],
   "gpuType": "T4"
  },
  "kernelspec": {
   "display_name": "Python 3",
   "name": "python3"
  },
  "language_info": {
   "name": "python"
  },
  "accelerator": "GPU"
 },
 "nbformat": 4,
 "nbformat_minor": 0
}
