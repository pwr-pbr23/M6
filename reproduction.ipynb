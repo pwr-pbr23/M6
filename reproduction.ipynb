{
 "cells": [
  {
   "cell_type": "markdown",
   "metadata": {
    "id": "hvzo6h6UI9E_"
   },
   "source": [
    "## *WARNING*\n",
    "<ins>Before running this script make sure that you followed steps described [here](https://github.com/pwr-pbr23/M6#preparation-for-reproduction).</ins>\n",
    "## Accessing files for reproduction\n",
    "To access files we need to mount google drive and change working directory. To mount drive a pop up window will appear - follow necessary steps."
   ]
  },
  {
   "cell_type": "code",
   "execution_count": 1,
   "metadata": {
    "colab": {
     "base_uri": "https://localhost:8080/"
    },
    "id": "wyzEbueMsX_5",
    "outputId": "72f61311-339d-4afc-e33e-e00752a53aec"
   },
   "outputs": [
    {
     "output_type": "stream",
     "name": "stdout",
     "text": [
      "Drive already mounted at /content/drive; to attempt to forcibly remount, call drive.mount(\"/content/drive\", force_remount=True).\n"
     ]
    }
   ],
   "source": [
    "from google.colab import drive\n",
    "drive.mount('/content/drive')"
   ]
  },
  {
   "cell_type": "code",
   "execution_count": 1,
   "metadata": {
    "colab": {
     "base_uri": "https://localhost:8080/"
    },
    "id": "jb96RTReR6ZG",
    "outputId": "9a6b5de8-0cf2-427f-cf84-c3539eb5df74"
   },
   "outputs": [
    {
     "output_type": "stream",
     "name": "stdout",
     "text": [
      "/content/drive/MyDrive/M6/DeepLineDP/script\n"
     ]
    }
   ],
   "source": [
    "%cd /content/drive/MyDrive/M6/DeepLineDP/script"
   ]
  },
  {
   "cell_type": "code",
   "execution_count": 3,
   "metadata": {
    "colab": {
     "base_uri": "https://localhost:8080/"
    },
    "id": "xkwI6Dzu0aCJ",
    "outputId": "453511ca-7b3f-416d-dd5a-ee7d2e0cf38d"
   },
   "outputs": [
    {
     "output_type": "stream",
     "name": "stdout",
     "text": [
      "DeepLineDP_model.py\t\t\tline-level-baseline\n",
      "export_data_for_line_level_baseline.py\tmy_util.py\n",
      "file-level-baseline\t\t\tpreprocess_data.py\n",
      "generate_prediction_cross_projects.py\t__pycache__\n",
      "generate_prediction.py\t\t\ttrain_model.py\n",
      "get_evaluation_result.R\t\t\ttrain_word2vec.py\n"
     ]
    }
   ],
   "source": [
    "!ls"
   ]
  },
  {
   "cell_type": "markdown",
   "source": [
    "The previous line should've returned:\n",
    "\n",
    "```\n",
    "condacolab_install.log\t\t\tmy_util.py\n",
    "DeepLineDP_model.py\t\t\tnew_preprocessing_methods.py\n",
    "export_data_for_line_level_baseline.py\tpreprocess_data.py\n",
    "file-level-baseline\t\t\t__pycache__\n",
    "generate_prediction_cross_projects.py\tRplots.pdf\n",
    "generate_prediction.py\t\t\trun_py_files.ipynb\n",
    "get_evaluation_result.R\t\t\ttrain_model.py\n",
    "line-level-baseline\t\t\ttrain_word2vec.py\n",
    "```"
   ],
   "metadata": {
    "id": "q6rRLsBA6Dt7"
   }
  },
  {
   "cell_type": "markdown",
   "metadata": {
    "id": "JRAACFDoKEt0"
   },
   "source": [
    "## Installing necessary libraries - 2 min\n",
    "Since we mounted google collab we do not need to repeat all the steps each time, since the result files are permanently saved, howerer when it comes to installing libaries this step <ins>needs to be run before each new session</ins>."
   ]
  },
  {
   "cell_type": "code",
   "execution_count": null,
   "metadata": {
    "colab": {
     "base_uri": "https://localhost:8080/"
    },
    "id": "wYT-CKR476kG",
    "outputId": "7df39292-33d4-4d89-93a1-7977ab47d271",
    "pycharm": {
     "is_executing": true
    }
   },
   "outputs": [],
   "source": [
    "# some warnings might occure\n",
    "!pip install gensim==3.8.3\n",
    "!pip install joblib==1.0.1\n",
    "!pip install more-itertools==8.10.0\n",
    "!pip install numpy==1.24.0\n",
    "!pip install pyxdameraulevenshtein==1.5.3\n",
    "!pip install pandas==1.3.3\n",
    "!pip install pillow==8.3.2\n",
    "!pip install python-dateutil==2.8.2\n",
    "!pip install pytz==2021.3\n",
    "!pip install scikit-learn==1.0\n",
    "!pip install scipy==1.7.1\n",
    "!pip install six==1.16.0\n",
    "!pip install smart-open==5.2.1\n",
    "!pip install threadpoolctl==3.0.0\n",
    "!pip install tqdm==4.62.3\n",
    "!pip install typing-extensions==3.10.0.2"
   ]
  },
  {
   "cell_type": "markdown",
   "metadata": {
    "id": "l02WDONpygeF"
   },
   "source": [
    "## preprocess_data.py - 9 min\n",
    "Data prepared for training models is saved in `/content/drive/MyDrive/M6/DeepLineDP/datasets/preprocessed_data`."
   ]
  },
  {
   "cell_type": "code",
   "execution_count": 6,
   "metadata": {
    "id": "FXV_nJ7c4QS0",
    "colab": {
     "base_uri": "https://localhost:8080/"
    },
    "outputId": "e0ca49bb-ad63-43cd-8284-8b1ee1d69b71"
   },
   "outputs": [
    {
     "output_type": "stream",
     "name": "stdout",
     "text": [
      "\r  0% 0/9 [00:00<?, ?it/s]finish release activemq-5.0.0\n",
      "finish release activemq-5.1.0\n",
      "finish release activemq-5.2.0\n",
      "finish release activemq-5.3.0\n",
      "finish release activemq-5.8.0\n",
      " 11% 1/9 [01:15<10:07, 75.93s/it]finish release camel-1.4.0\n",
      "finish release camel-2.9.0\n",
      "finish release camel-2.10.0\n",
      "finish release camel-2.11.0\n",
      " 22% 2/9 [03:17<11:59, 102.74s/it]finish release derby-10.2.1.6\n",
      "finish release derby-10.3.1.4\n",
      "finish release derby-10.5.1.1\n",
      " 33% 3/9 [04:22<08:34, 85.73s/it] finish release groovy-1_5_7\n",
      "finish release groovy-1_6_BETA_1\n",
      "finish release groovy-1_6_BETA_2\n",
      " 44% 4/9 [04:44<05:02, 60.53s/it]finish release hbase-0.94.0\n",
      "finish release hbase-0.95.0\n",
      "finish release hbase-0.95.2\n",
      " 56% 5/9 [05:36<03:48, 57.17s/it]finish release hive-0.9.0\n",
      "finish release hive-0.10.0\n",
      "finish release hive-0.12.0\n",
      " 67% 6/9 [06:21<02:39, 53.12s/it]finish release jruby-1.1\n",
      "finish release jruby-1.4.0\n",
      "finish release jruby-1.5.0\n",
      "finish release jruby-1.7.0.preview1\n",
      " 78% 7/9 [06:55<01:34, 47.06s/it]finish release lucene-2.3.0\n",
      "finish release lucene-2.9.0\n",
      "finish release lucene-3.0.0\n",
      "finish release lucene-3.1\n",
      " 89% 8/9 [07:42<00:46, 46.84s/it]finish release wicket-1.3.0-incubating-beta-1\n",
      "finish release wicket-1.3.0-beta2\n",
      "finish release wicket-1.5.3\n",
      "100% 9/9 [08:19<00:00, 55.48s/it]\n"
     ]
    }
   ],
   "source": [
    "!python preprocess_data.py"
   ]
  },
  {
   "cell_type": "markdown",
   "metadata": {
    "id": "VO9UsCfHtZv7"
   },
   "source": [
    "## train_word2vec.py - 3 min\n",
    "It creates word2vec model, which is saved in `/content/drive/MyDrive/M6/DeepLineDP/output/Word2Vec_model`."
   ]
  },
  {
   "cell_type": "code",
   "execution_count": 7,
   "metadata": {
    "colab": {
     "base_uri": "https://localhost:8080/"
    },
    "id": "UsXFYQ154AXw",
    "outputId": "1698a7af-6d16-49cd-8042-6ccbeba0d64a"
   },
   "outputs": [
    {
     "output_type": "stream",
     "name": "stdout",
     "text": [
      "save word2vec model at path ../output/Word2Vec_model//activemq-50dim.bin done\n",
      "save word2vec model at path ../output/Word2Vec_model//camel-50dim.bin done\n",
      "save word2vec model at path ../output/Word2Vec_model//derby-50dim.bin done\n",
      "save word2vec model at path ../output/Word2Vec_model//groovy-50dim.bin done\n",
      "save word2vec model at path ../output/Word2Vec_model//hbase-50dim.bin done\n",
      "save word2vec model at path ../output/Word2Vec_model//hive-50dim.bin done\n",
      "save word2vec model at path ../output/Word2Vec_model//jruby-50dim.bin done\n",
      "save word2vec model at path ../output/Word2Vec_model//lucene-50dim.bin done\n",
      "save word2vec model at path ../output/Word2Vec_model//wicket-50dim.bin done\n"
     ]
    }
   ],
   "source": [
    "!python train_word2vec.py activemq\n",
    "!python train_word2vec.py camel\n",
    "!python train_word2vec.py derby\n",
    "!python train_word2vec.py groovy\n",
    "!python train_word2vec.py hbase\n",
    "!python train_word2vec.py hive\n",
    "!python train_word2vec.py jruby\n",
    "!python train_word2vec.py lucene\n",
    "!python train_word2vec.py wicket"
   ]
  },
  {
   "cell_type": "markdown",
   "metadata": {
    "id": "J8dZV7mft2Sd"
   },
   "source": [
    "## train_model.py - 51 min\n",
    "Trains model and saves model along with loss (.csv).\n",
    "\n",
    "| Output | saved location                                                 |\n",
    "|--------|----------------------------------------------------------------|\n",
    "| model  | `/content/drive/MyDrive/M6/DeepLineDP/output/model/DeepLineDP` |\n",
    "| loss   | `/content/drive/MyDrive/M6/DeepLineDP/output/loss/DeepLineDP`  |\n"
   ]
  },
  {
   "cell_type": "code",
   "execution_count": 8,
   "metadata": {
    "colab": {
     "base_uri": "https://localhost:8080/"
    },
    "id": "UXpYIMNs4CAk",
    "outputId": "0ef517ce-ae42-436b-9a6d-5b16d53cbc7e"
   },
   "outputs": [
    {
     "output_type": "stream",
     "name": "stdout",
     "text": [
      "load Word2Vec for activemq finished\n",
      "/usr/local/lib/python3.9/dist-packages/torch/nn/modules/rnn.py:71: UserWarning: dropout option adds dropout after all but last recurrent layer, so non-zero dropout expects num_layers greater than 1, but got dropout=0.2 and num_layers=1\n",
      "  warnings.warn(\"dropout option adds dropout after all but last \"\n",
      "  0% 0/10 [00:00<?, ?it/s]activemq - at epoch: 1\n",
      " 10% 1/10 [00:36<05:25, 36.21s/it]activemq - at epoch: 2\n",
      " 20% 2/10 [01:10<04:40, 35.01s/it]activemq - at epoch: 3\n",
      " 30% 3/10 [01:44<04:02, 34.57s/it]activemq - at epoch: 4\n",
      " 40% 4/10 [02:20<03:30, 35.13s/it]activemq - at epoch: 5\n",
      " 50% 5/10 [02:56<02:56, 35.40s/it]activemq - at epoch: 6\n",
      " 60% 6/10 [03:31<02:20, 35.23s/it]activemq - at epoch: 7\n",
      " 70% 7/10 [04:05<01:45, 35.09s/it]activemq - at epoch: 8\n",
      " 80% 8/10 [04:41<01:10, 35.14s/it]activemq - at epoch: 9\n",
      " 90% 9/10 [05:17<00:35, 35.42s/it]activemq - at epoch: 10\n",
      "100% 10/10 [05:52<00:00, 35.25s/it]\n",
      "load Word2Vec for camel finished\n",
      "/usr/local/lib/python3.9/dist-packages/torch/nn/modules/rnn.py:71: UserWarning: dropout option adds dropout after all but last recurrent layer, so non-zero dropout expects num_layers greater than 1, but got dropout=0.2 and num_layers=1\n",
      "  warnings.warn(\"dropout option adds dropout after all but last \"\n",
      "  0% 0/10 [00:00<?, ?it/s]camel - at epoch: 1\n",
      " 10% 1/10 [00:37<05:36, 37.35s/it]camel - at epoch: 2\n",
      " 20% 2/10 [01:13<04:54, 36.86s/it]camel - at epoch: 3\n",
      " 30% 3/10 [01:50<04:16, 36.68s/it]camel - at epoch: 4\n",
      " 40% 4/10 [02:27<03:41, 36.94s/it]camel - at epoch: 5\n",
      " 50% 5/10 [03:04<03:04, 36.96s/it]camel - at epoch: 6\n",
      " 60% 6/10 [03:41<02:28, 37.08s/it]camel - at epoch: 7\n",
      " 70% 7/10 [04:18<01:51, 37.05s/it]camel - at epoch: 8\n",
      " 80% 8/10 [04:56<01:14, 37.07s/it]camel - at epoch: 9\n",
      " 90% 9/10 [05:32<00:36, 36.95s/it]camel - at epoch: 10\n",
      "100% 10/10 [06:09<00:00, 36.95s/it]\n",
      "load Word2Vec for derby finished\n",
      "/usr/local/lib/python3.9/dist-packages/torch/nn/modules/rnn.py:71: UserWarning: dropout option adds dropout after all but last recurrent layer, so non-zero dropout expects num_layers greater than 1, but got dropout=0.2 and num_layers=1\n",
      "  warnings.warn(\"dropout option adds dropout after all but last \"\n",
      "  0% 0/10 [00:00<?, ?it/s]derby - at epoch: 1\n",
      " 10% 1/10 [00:46<06:59, 46.63s/it]derby - at epoch: 2\n",
      " 20% 2/10 [01:32<06:08, 46.01s/it]derby - at epoch: 3\n",
      " 30% 3/10 [02:18<05:23, 46.22s/it]derby - at epoch: 4\n",
      " 40% 4/10 [03:03<04:34, 45.71s/it]derby - at epoch: 5\n",
      " 50% 5/10 [03:48<03:46, 45.38s/it]derby - at epoch: 6\n",
      " 60% 6/10 [04:34<03:02, 45.58s/it]derby - at epoch: 7\n",
      " 70% 7/10 [05:19<02:16, 45.55s/it]derby - at epoch: 8\n",
      " 80% 8/10 [06:05<01:31, 45.58s/it]derby - at epoch: 9\n",
      " 90% 9/10 [06:52<00:45, 45.88s/it]derby - at epoch: 10\n",
      "100% 10/10 [07:37<00:00, 45.77s/it]\n",
      "load Word2Vec for groovy finished\n",
      "/usr/local/lib/python3.9/dist-packages/torch/nn/modules/rnn.py:71: UserWarning: dropout option adds dropout after all but last recurrent layer, so non-zero dropout expects num_layers greater than 1, but got dropout=0.2 and num_layers=1\n",
      "  warnings.warn(\"dropout option adds dropout after all but last \"\n",
      "  0% 0/10 [00:00<?, ?it/s]groovy - at epoch: 1\n",
      " 10% 1/10 [00:17<02:37, 17.53s/it]groovy - at epoch: 2\n",
      " 20% 2/10 [00:34<02:17, 17.24s/it]groovy - at epoch: 3\n",
      " 30% 3/10 [00:51<02:00, 17.18s/it]groovy - at epoch: 4\n",
      " 40% 4/10 [01:08<01:42, 17.16s/it]groovy - at epoch: 5\n",
      " 50% 5/10 [01:26<01:26, 17.25s/it]groovy - at epoch: 6\n",
      " 60% 6/10 [01:43<01:09, 17.29s/it]groovy - at epoch: 7\n",
      " 70% 7/10 [02:02<00:53, 17.87s/it]groovy - at epoch: 8\n",
      " 80% 8/10 [02:19<00:35, 17.62s/it]groovy - at epoch: 9\n",
      " 90% 9/10 [02:36<00:17, 17.44s/it]groovy - at epoch: 10\n",
      "100% 10/10 [02:53<00:00, 17.37s/it]\n",
      "load Word2Vec for hbase finished\n",
      "/usr/local/lib/python3.9/dist-packages/torch/nn/modules/rnn.py:71: UserWarning: dropout option adds dropout after all but last recurrent layer, so non-zero dropout expects num_layers greater than 1, but got dropout=0.2 and num_layers=1\n",
      "  warnings.warn(\"dropout option adds dropout after all but last \"\n",
      "  0% 0/10 [00:00<?, ?it/s]hbase - at epoch: 1\n",
      " 10% 1/10 [00:23<03:29, 23.22s/it]hbase - at epoch: 2\n",
      " 20% 2/10 [00:47<03:09, 23.66s/it]hbase - at epoch: 3\n",
      " 30% 3/10 [01:10<02:44, 23.51s/it]hbase - at epoch: 4\n",
      " 40% 4/10 [01:34<02:21, 23.53s/it]hbase - at epoch: 5\n",
      " 50% 5/10 [01:58<01:58, 23.72s/it]hbase - at epoch: 6\n",
      " 60% 6/10 [02:21<01:34, 23.73s/it]hbase - at epoch: 7\n",
      " 70% 7/10 [02:45<01:10, 23.57s/it]hbase - at epoch: 8\n",
      " 80% 8/10 [03:09<00:47, 23.85s/it]hbase - at epoch: 9\n",
      " 90% 9/10 [03:32<00:23, 23.71s/it]hbase - at epoch: 10\n",
      "100% 10/10 [03:56<00:00, 23.68s/it]\n",
      "load Word2Vec for hive finished\n",
      "/usr/local/lib/python3.9/dist-packages/torch/nn/modules/rnn.py:71: UserWarning: dropout option adds dropout after all but last recurrent layer, so non-zero dropout expects num_layers greater than 1, but got dropout=0.2 and num_layers=1\n",
      "  warnings.warn(\"dropout option adds dropout after all but last \"\n",
      "  0% 0/10 [00:00<?, ?it/s]hive - at epoch: 1\n",
      " 10% 1/10 [00:37<05:40, 37.84s/it]hive - at epoch: 2\n",
      " 20% 2/10 [01:15<05:00, 37.57s/it]hive - at epoch: 3\n",
      " 30% 3/10 [01:51<04:19, 37.08s/it]hive - at epoch: 4\n",
      " 40% 4/10 [02:30<03:45, 37.61s/it]hive - at epoch: 5\n",
      " 50% 5/10 [03:07<03:06, 37.36s/it]hive - at epoch: 6\n",
      " 60% 6/10 [03:44<02:29, 37.37s/it]hive - at epoch: 7\n",
      " 70% 7/10 [04:22<01:52, 37.51s/it]hive - at epoch: 8\n",
      " 80% 8/10 [04:59<01:14, 37.39s/it]hive - at epoch: 9\n",
      " 90% 9/10 [05:36<00:37, 37.36s/it]hive - at epoch: 10\n",
      "100% 10/10 [06:14<00:00, 37.48s/it]\n",
      "load Word2Vec for jruby finished\n",
      "/usr/local/lib/python3.9/dist-packages/torch/nn/modules/rnn.py:71: UserWarning: dropout option adds dropout after all but last recurrent layer, so non-zero dropout expects num_layers greater than 1, but got dropout=0.2 and num_layers=1\n",
      "  warnings.warn(\"dropout option adds dropout after all but last \"\n",
      "  0% 0/10 [00:00<?, ?it/s]jruby - at epoch: 1\n",
      " 10% 1/10 [00:20<03:04, 20.49s/it]jruby - at epoch: 2\n",
      " 20% 2/10 [00:40<02:41, 20.14s/it]jruby - at epoch: 3\n",
      " 30% 3/10 [00:59<02:19, 19.87s/it]jruby - at epoch: 4\n",
      " 40% 4/10 [01:19<01:58, 19.83s/it]jruby - at epoch: 5\n",
      " 50% 5/10 [01:39<01:39, 19.99s/it]jruby - at epoch: 6\n",
      " 60% 6/10 [01:59<01:19, 19.99s/it]jruby - at epoch: 7\n",
      " 70% 7/10 [02:19<00:59, 19.82s/it]jruby - at epoch: 8\n",
      " 80% 8/10 [02:39<00:39, 19.86s/it]jruby - at epoch: 9\n",
      " 90% 9/10 [02:59<00:19, 19.95s/it]jruby - at epoch: 10\n",
      "100% 10/10 [03:19<00:00, 19.96s/it]\n",
      "load Word2Vec for lucene finished\n",
      "/usr/local/lib/python3.9/dist-packages/torch/nn/modules/rnn.py:71: UserWarning: dropout option adds dropout after all but last recurrent layer, so non-zero dropout expects num_layers greater than 1, but got dropout=0.2 and num_layers=1\n",
      "  warnings.warn(\"dropout option adds dropout after all but last \"\n",
      "  0% 0/10 [00:00<?, ?it/s]lucene - at epoch: 1\n",
      " 10% 1/10 [00:20<03:06, 20.71s/it]lucene - at epoch: 2\n",
      " 20% 2/10 [00:40<02:43, 20.39s/it]lucene - at epoch: 3\n",
      " 30% 3/10 [01:00<02:20, 20.01s/it]lucene - at epoch: 4\n",
      " 40% 4/10 [01:20<02:00, 20.01s/it]lucene - at epoch: 5\n",
      " 50% 5/10 [01:40<01:40, 20.14s/it]lucene - at epoch: 6\n",
      " 60% 6/10 [02:00<01:20, 20.15s/it]lucene - at epoch: 7\n",
      " 70% 7/10 [02:20<00:59, 19.94s/it]lucene - at epoch: 8\n",
      " 80% 8/10 [02:40<00:40, 20.01s/it]lucene - at epoch: 9\n",
      " 90% 9/10 [03:01<00:20, 20.17s/it]lucene - at epoch: 10\n",
      "100% 10/10 [03:21<00:00, 20.10s/it]\n",
      "load Word2Vec for wicket finished\n",
      "/usr/local/lib/python3.9/dist-packages/torch/nn/modules/rnn.py:71: UserWarning: dropout option adds dropout after all but last recurrent layer, so non-zero dropout expects num_layers greater than 1, but got dropout=0.2 and num_layers=1\n",
      "  warnings.warn(\"dropout option adds dropout after all but last \"\n",
      "  0% 0/10 [00:00<?, ?it/s]wicket - at epoch: 1\n",
      " 10% 1/10 [00:34<05:10, 34.48s/it]wicket - at epoch: 2\n",
      " 20% 2/10 [01:08<04:32, 34.11s/it]wicket - at epoch: 3\n",
      " 30% 3/10 [01:42<04:00, 34.31s/it]wicket - at epoch: 4\n",
      " 40% 4/10 [02:17<03:26, 34.36s/it]wicket - at epoch: 5\n",
      " 50% 5/10 [02:51<02:51, 34.31s/it]wicket - at epoch: 6\n",
      " 60% 6/10 [03:25<02:17, 34.31s/it]wicket - at epoch: 7\n",
      " 70% 7/10 [03:59<01:42, 34.04s/it]wicket - at epoch: 8\n",
      " 80% 8/10 [04:33<01:07, 33.95s/it]wicket - at epoch: 9\n",
      " 90% 9/10 [05:07<00:34, 34.11s/it]wicket - at epoch: 10\n",
      "100% 10/10 [05:42<00:00, 34.21s/it]\n"
     ]
    }
   ],
   "source": [
    "!python train_model.py -dataset activemq\n",
    "!python train_model.py -dataset camel\n",
    "!python train_model.py -dataset derby\n",
    "!python train_model.py -dataset groovy\n",
    "!python train_model.py -dataset hbase\n",
    "!python train_model.py -dataset hive\n",
    "!python train_model.py -dataset jruby\n",
    "!python train_model.py -dataset lucene\n",
    "!python train_model.py -dataset wicket"
   ]
  },
  {
   "cell_type": "markdown",
   "metadata": {
    "id": "-ozgi049u-fR"
   },
   "source": [
    "## generate_prediction.py - 14 min\n",
    "\n",
    "| generated files | saved location                                             |\n",
    "|-----------------|------------------------------------------------------------|\n",
    "| output          | `/content/drive/MyDrive/M6/DeepLineDP/output/intermediate_output/DeepLineDP/within-release/` |\n",
    "| prediction      | `/content/drive/MyDrive/M6/DeepLineDP/output/prediction/DeepLineDP/within-release/`          |\n"
   ]
  },
  {
   "cell_type": "code",
   "execution_count": 9,
   "metadata": {
    "colab": {
     "base_uri": "https://localhost:8080/"
    },
    "id": "gSp8MpVtG1Pq",
    "outputId": "27bad40c-1210-40b6-9faa-df4343ddbf1e"
   },
   "outputs": [
    {
     "output_type": "stream",
     "name": "stdout",
     "text": [
      "load Word2Vec for activemq finished\n",
      "/usr/local/lib/python3.9/dist-packages/torch/nn/modules/rnn.py:71: UserWarning: dropout option adds dropout after all but last recurrent layer, so non-zero dropout expects num_layers greater than 1, but got dropout=0.2 and num_layers=1\n",
      "  warnings.warn(\"dropout option adds dropout after all but last \"\n",
      "generating prediction of release: activemq-5.2.0\n",
      "100% 1286/1286 [00:25<00:00, 50.86it/s]\n",
      "finished release activemq-5.2.0\n",
      "generating prediction of release: activemq-5.3.0\n",
      "100% 1487/1487 [00:28<00:00, 51.54it/s]\n",
      "finished release activemq-5.3.0\n",
      "generating prediction of release: activemq-5.8.0\n",
      "100% 1927/1927 [00:38<00:00, 50.68it/s]\n",
      "finished release activemq-5.8.0\n",
      "load Word2Vec for camel finished\n",
      "/usr/local/lib/python3.9/dist-packages/torch/nn/modules/rnn.py:71: UserWarning: dropout option adds dropout after all but last recurrent layer, so non-zero dropout expects num_layers greater than 1, but got dropout=0.2 and num_layers=1\n",
      "  warnings.warn(\"dropout option adds dropout after all but last \"\n",
      "generating prediction of release: camel-2.10.0\n",
      "100% 2559/2559 [00:46<00:00, 55.60it/s]\n",
      "finished release camel-2.10.0\n",
      "generating prediction of release: camel-2.11.0\n",
      "100% 2832/2832 [00:53<00:00, 52.90it/s]\n",
      "finished release camel-2.11.0\n",
      "load Word2Vec for derby finished\n",
      "/usr/local/lib/python3.9/dist-packages/torch/nn/modules/rnn.py:71: UserWarning: dropout option adds dropout after all but last recurrent layer, so non-zero dropout expects num_layers greater than 1, but got dropout=0.2 and num_layers=1\n",
      "  warnings.warn(\"dropout option adds dropout after all but last \"\n",
      "generating prediction of release: derby-10.5.1.1\n",
      "100% 1931/1931 [00:54<00:00, 35.30it/s]\n",
      "finished release derby-10.5.1.1\n",
      "load Word2Vec for groovy finished\n",
      "/usr/local/lib/python3.9/dist-packages/torch/nn/modules/rnn.py:71: UserWarning: dropout option adds dropout after all but last recurrent layer, so non-zero dropout expects num_layers greater than 1, but got dropout=0.2 and num_layers=1\n",
      "  warnings.warn(\"dropout option adds dropout after all but last \"\n",
      "generating prediction of release: groovy-1_6_BETA_2\n",
      "100% 701/701 [00:14<00:00, 49.32it/s]\n",
      "finished release groovy-1_6_BETA_2\n",
      "load Word2Vec for hbase finished\n",
      "/usr/local/lib/python3.9/dist-packages/torch/nn/modules/rnn.py:71: UserWarning: dropout option adds dropout after all but last recurrent layer, so non-zero dropout expects num_layers greater than 1, but got dropout=0.2 and num_layers=1\n",
      "  warnings.warn(\"dropout option adds dropout after all but last \"\n",
      "generating prediction of release: hbase-0.95.2\n",
      "100% 1136/1136 [00:39<00:00, 29.05it/s]\n",
      "finished release hbase-0.95.2\n",
      "load Word2Vec for hive finished\n",
      "/usr/local/lib/python3.9/dist-packages/torch/nn/modules/rnn.py:71: UserWarning: dropout option adds dropout after all but last recurrent layer, so non-zero dropout expects num_layers greater than 1, but got dropout=0.2 and num_layers=1\n",
      "  warnings.warn(\"dropout option adds dropout after all but last \"\n",
      "generating prediction of release: hive-0.12.0\n",
      "100% 2029/2029 [00:50<00:00, 40.52it/s]\n",
      "finished release hive-0.12.0\n",
      "load Word2Vec for jruby finished\n",
      "/usr/local/lib/python3.9/dist-packages/torch/nn/modules/rnn.py:71: UserWarning: dropout option adds dropout after all but last recurrent layer, so non-zero dropout expects num_layers greater than 1, but got dropout=0.2 and num_layers=1\n",
      "  warnings.warn(\"dropout option adds dropout after all but last \"\n",
      "generating prediction of release: jruby-1.5.0\n",
      "100% 1023/1023 [00:22<00:00, 45.57it/s]\n",
      "finished release jruby-1.5.0\n",
      "generating prediction of release: jruby-1.7.0.preview1\n",
      "100% 1438/1438 [00:32<00:00, 44.34it/s]\n",
      "finished release jruby-1.7.0.preview1\n",
      "load Word2Vec for lucene finished\n",
      "/usr/local/lib/python3.9/dist-packages/torch/nn/modules/rnn.py:71: UserWarning: dropout option adds dropout after all but last recurrent layer, so non-zero dropout expects num_layers greater than 1, but got dropout=0.2 and num_layers=1\n",
      "  warnings.warn(\"dropout option adds dropout after all but last \"\n",
      "generating prediction of release: lucene-3.0.0\n",
      "100% 977/977 [00:19<00:00, 50.34it/s]\n",
      "finished release lucene-3.0.0\n",
      "generating prediction of release: lucene-3.1\n",
      "100% 1813/1813 [00:35<00:00, 50.38it/s]\n",
      "finished release lucene-3.1\n",
      "load Word2Vec for wicket finished\n",
      "/usr/local/lib/python3.9/dist-packages/torch/nn/modules/rnn.py:71: UserWarning: dropout option adds dropout after all but last recurrent layer, so non-zero dropout expects num_layers greater than 1, but got dropout=0.2 and num_layers=1\n",
      "  warnings.warn(\"dropout option adds dropout after all but last \"\n",
      "generating prediction of release: wicket-1.5.3\n",
      "100% 1545/1545 [00:30<00:00, 51.28it/s]\n",
      "finished release wicket-1.5.3\n"
     ]
    }
   ],
   "source": [
    "!python generate_prediction.py -dataset activemq\n",
    "!python generate_prediction.py -dataset camel\n",
    "!python generate_prediction.py -dataset derby\n",
    "!python generate_prediction.py -dataset groovy\n",
    "!python generate_prediction.py -dataset hbase\n",
    "!python generate_prediction.py -dataset hive\n",
    "!python generate_prediction.py -dataset jruby\n",
    "!python generate_prediction.py -dataset lucene\n",
    "!python generate_prediction.py -dataset wicket"
   ]
  },
  {
   "cell_type": "markdown",
   "metadata": {
    "id": "FW8SNCrbwziZ"
   },
   "source": [
    "## generate_prediction_cross_projects.py - 1h\n",
    "\n",
    "| generated files | saved location                                             |\n",
    "|-----------------|------------------------------------------------------------|\n",
    "| output          | `/content/drive/MyDrive/M6/DeepLineDP/output/intermediate_output/DeepLineDP/cross-project/` |\n",
    "| prediction      | `/content/drive/MyDrive/M6/DeepLineDP/output/prediction/DeepLineDP/cross-project/`          |\n"
   ]
  },
  {
   "cell_type": "code",
   "execution_count": 10,
   "metadata": {
    "colab": {
     "base_uri": "https://localhost:8080/"
    },
    "id": "YlEeZxwqRUBu",
    "outputId": "3cd0af22-7198-4fcf-dc04-20db8cc6053d"
   },
   "outputs": [
    {
     "output_type": "stream",
     "name": "stdout",
     "text": [
      "load Word2Vec for activemq finished\n",
      "/usr/local/lib/python3.9/dist-packages/torch/nn/modules/rnn.py:71: UserWarning: dropout option adds dropout after all but last recurrent layer, so non-zero dropout expects num_layers greater than 1, but got dropout=0.2 and num_layers=1\n",
      "  warnings.warn(\"dropout option adds dropout after all but last \"\n",
      "using model from activemq-5.0.0 to generate prediction of camel-2.10.0\n",
      "100% 2559/2559 [00:24<00:00, 105.89it/s]\n",
      "finished release camel-2.10.0\n",
      "using model from activemq-5.0.0 to generate prediction of camel-2.11.0\n",
      "100% 2832/2832 [00:24<00:00, 114.39it/s]\n",
      "finished release camel-2.11.0\n",
      "using model from activemq-5.0.0 to generate prediction of derby-10.5.1.1\n",
      "100% 1931/1931 [00:39<00:00, 49.13it/s]\n",
      "finished release derby-10.5.1.1\n",
      "using model from activemq-5.0.0 to generate prediction of groovy-1_6_BETA_2\n",
      "100% 701/701 [00:09<00:00, 73.15it/s] \n",
      "finished release groovy-1_6_BETA_2\n",
      "using model from activemq-5.0.0 to generate prediction of hbase-0.95.2\n",
      "100% 1136/1136 [00:27<00:00, 40.84it/s]\n",
      "finished release hbase-0.95.2\n",
      "using model from activemq-5.0.0 to generate prediction of hive-0.12.0\n",
      " 25% 501/2029 [00:10<00:31, 48.16it/s]\n",
      "Traceback (most recent call last):\n",
      "  File \"/content/drive/MyDrive/M6/DeepLineDP/script/generate_prediction_cross_projects.py\", line 200, in <module>\n",
      "    predict_defective_files_in_releases(dataset_name, target_epochs)\n",
      "  File \"/content/drive/MyDrive/M6/DeepLineDP/script/generate_prediction_cross_projects.py\", line 151, in predict_defective_files_in_releases\n",
      "    output, word_att_weights, line_att_weight, _ = model(codevec_padded_tensor)\n",
      "  File \"/usr/local/lib/python3.9/dist-packages/torch/nn/modules/module.py\", line 1501, in _call_impl\n",
      "    return forward_call(*args, **kwargs)\n",
      "  File \"/content/drive/MyDrive/M6/DeepLineDP/script/DeepLineDP_model.py\", line 49, in forward\n",
      "    code_embeds, word_att_weights, sent_att_weights, sents = self.sent_attention(code_tensor, code_lengths, sent_lengths)\n",
      "  File \"/usr/local/lib/python3.9/dist-packages/torch/nn/modules/module.py\", line 1501, in _call_impl\n",
      "    return forward_call(*args, **kwargs)\n",
      "  File \"/content/drive/MyDrive/M6/DeepLineDP/script/DeepLineDP_model.py\", line 107, in forward\n",
      "    sents, word_att_weights = self.word_attention(packed_sents.data, packed_sent_lengths.data)\n",
      "  File \"/usr/local/lib/python3.9/dist-packages/torch/nn/modules/module.py\", line 1501, in _call_impl\n",
      "    return forward_call(*args, **kwargs)\n",
      "  File \"/content/drive/MyDrive/M6/DeepLineDP/script/DeepLineDP_model.py\", line 205, in forward\n",
      "    packed_words, _ = self.gru(packed_words)\n",
      "  File \"/usr/local/lib/python3.9/dist-packages/torch/nn/modules/module.py\", line 1501, in _call_impl\n",
      "    return forward_call(*args, **kwargs)\n",
      "  File \"/usr/local/lib/python3.9/dist-packages/torch/nn/modules/rnn.py\", line 1001, in forward\n",
      "    result = _VF.gru(input, batch_sizes, hx, self._flat_weights, self.bias,\n",
      "torch.cuda.OutOfMemoryError: CUDA out of memory. Tried to allocate 8.24 GiB (GPU 0; 14.75 GiB total capacity; 3.03 GiB already allocated; 7.71 GiB free; 6.16 GiB reserved in total by PyTorch) If reserved memory is >> allocated memory try setting max_split_size_mb to avoid fragmentation.  See documentation for Memory Management and PYTORCH_CUDA_ALLOC_CONF\n",
      "load Word2Vec for camel finished\n",
      "/usr/local/lib/python3.9/dist-packages/torch/nn/modules/rnn.py:71: UserWarning: dropout option adds dropout after all but last recurrent layer, so non-zero dropout expects num_layers greater than 1, but got dropout=0.2 and num_layers=1\n",
      "  warnings.warn(\"dropout option adds dropout after all but last \"\n",
      "using model from camel-1.4.0 to generate prediction of activemq-5.2.0\n",
      "100% 1286/1286 [00:14<00:00, 90.52it/s] \n",
      "finished release activemq-5.2.0\n",
      "using model from camel-1.4.0 to generate prediction of activemq-5.3.0\n",
      "100% 1487/1487 [00:15<00:00, 97.32it/s]\n",
      "finished release activemq-5.3.0\n",
      "using model from camel-1.4.0 to generate prediction of activemq-5.8.0\n",
      "100% 1927/1927 [00:20<00:00, 92.82it/s]\n",
      "finished release activemq-5.8.0\n",
      "using model from camel-1.4.0 to generate prediction of derby-10.5.1.1\n",
      "100% 1931/1931 [00:38<00:00, 50.04it/s]\n",
      "finished release derby-10.5.1.1\n",
      "using model from camel-1.4.0 to generate prediction of groovy-1_6_BETA_2\n",
      "100% 701/701 [00:09<00:00, 72.27it/s] \n",
      "finished release groovy-1_6_BETA_2\n",
      "using model from camel-1.4.0 to generate prediction of hbase-0.95.2\n",
      "100% 1136/1136 [00:27<00:00, 41.89it/s]\n",
      "finished release hbase-0.95.2\n",
      "using model from camel-1.4.0 to generate prediction of hive-0.12.0\n",
      "100% 2029/2029 [00:37<00:00, 53.83it/s]\n",
      "finished release hive-0.12.0\n",
      "using model from camel-1.4.0 to generate prediction of jruby-1.5.0\n",
      "100% 1023/1023 [00:13<00:00, 76.92it/s]\n",
      "finished release jruby-1.5.0\n",
      "using model from camel-1.4.0 to generate prediction of jruby-1.7.0.preview1\n",
      "100% 1438/1438 [00:18<00:00, 76.14it/s]\n",
      "finished release jruby-1.7.0.preview1\n",
      "using model from camel-1.4.0 to generate prediction of lucene-3.0.0\n",
      "100% 977/977 [00:12<00:00, 77.71it/s]\n",
      "finished release lucene-3.0.0\n",
      "using model from camel-1.4.0 to generate prediction of lucene-3.1\n",
      "100% 1813/1813 [00:22<00:00, 82.30it/s]\n",
      "finished release lucene-3.1\n",
      "using model from camel-1.4.0 to generate prediction of wicket-1.5.3\n",
      "100% 1545/1545 [00:15<00:00, 96.75it/s]\n",
      "finished release wicket-1.5.3\n",
      "load Word2Vec for derby finished\n",
      "/usr/local/lib/python3.9/dist-packages/torch/nn/modules/rnn.py:71: UserWarning: dropout option adds dropout after all but last recurrent layer, so non-zero dropout expects num_layers greater than 1, but got dropout=0.2 and num_layers=1\n",
      "  warnings.warn(\"dropout option adds dropout after all but last \"\n",
      "using model from derby-10.2.1.6 to generate prediction of activemq-5.2.0\n",
      "100% 1286/1286 [00:13<00:00, 98.08it/s] \n",
      "finished release activemq-5.2.0\n",
      "using model from derby-10.2.1.6 to generate prediction of activemq-5.3.0\n",
      "100% 1487/1487 [00:15<00:00, 95.48it/s] \n",
      "finished release activemq-5.3.0\n",
      "using model from derby-10.2.1.6 to generate prediction of activemq-5.8.0\n",
      "100% 1927/1927 [00:22<00:00, 87.42it/s]\n",
      "finished release activemq-5.8.0\n",
      "using model from derby-10.2.1.6 to generate prediction of camel-2.10.0\n",
      "100% 2559/2559 [00:24<00:00, 106.32it/s]\n",
      "finished release camel-2.10.0\n",
      "using model from derby-10.2.1.6 to generate prediction of camel-2.11.0\n",
      "100% 2832/2832 [00:24<00:00, 113.58it/s]\n",
      "finished release camel-2.11.0\n",
      "using model from derby-10.2.1.6 to generate prediction of groovy-1_6_BETA_2\n",
      "100% 701/701 [00:09<00:00, 71.76it/s] \n",
      "finished release groovy-1_6_BETA_2\n",
      "using model from derby-10.2.1.6 to generate prediction of hbase-0.95.2\n",
      "100% 1136/1136 [00:27<00:00, 41.00it/s]\n",
      "finished release hbase-0.95.2\n",
      "using model from derby-10.2.1.6 to generate prediction of hive-0.12.0\n",
      "100% 2029/2029 [00:31<00:00, 63.61it/s] \n",
      "finished release hive-0.12.0\n",
      "using model from derby-10.2.1.6 to generate prediction of jruby-1.5.0\n",
      "100% 1023/1023 [00:14<00:00, 72.03it/s]\n",
      "finished release jruby-1.5.0\n",
      "using model from derby-10.2.1.6 to generate prediction of jruby-1.7.0.preview1\n",
      "100% 1438/1438 [00:19<00:00, 73.57it/s]\n",
      "finished release jruby-1.7.0.preview1\n",
      "using model from derby-10.2.1.6 to generate prediction of lucene-3.0.0\n",
      "100% 977/977 [00:13<00:00, 71.39it/s]\n",
      "finished release lucene-3.0.0\n",
      "using model from derby-10.2.1.6 to generate prediction of lucene-3.1\n",
      "100% 1813/1813 [00:23<00:00, 77.47it/s]\n",
      "finished release lucene-3.1\n",
      "using model from derby-10.2.1.6 to generate prediction of wicket-1.5.3\n",
      "100% 1545/1545 [00:16<00:00, 94.04it/s]\n",
      "finished release wicket-1.5.3\n",
      "load Word2Vec for groovy finished\n",
      "/usr/local/lib/python3.9/dist-packages/torch/nn/modules/rnn.py:71: UserWarning: dropout option adds dropout after all but last recurrent layer, so non-zero dropout expects num_layers greater than 1, but got dropout=0.2 and num_layers=1\n",
      "  warnings.warn(\"dropout option adds dropout after all but last \"\n",
      "using model from groovy-1_5_7 to generate prediction of activemq-5.2.0\n",
      "100% 1286/1286 [00:12<00:00, 101.77it/s]\n",
      "finished release activemq-5.2.0\n",
      "using model from groovy-1_5_7 to generate prediction of activemq-5.3.0\n",
      "100% 1487/1487 [00:15<00:00, 95.58it/s] \n",
      "finished release activemq-5.3.0\n",
      "using model from groovy-1_5_7 to generate prediction of activemq-5.8.0\n",
      "100% 1927/1927 [00:20<00:00, 93.72it/s] \n",
      "finished release activemq-5.8.0\n",
      "using model from groovy-1_5_7 to generate prediction of camel-2.10.0\n",
      "100% 2559/2559 [00:23<00:00, 108.45it/s]\n",
      "finished release camel-2.10.0\n",
      "using model from groovy-1_5_7 to generate prediction of camel-2.11.0\n",
      "100% 2832/2832 [00:25<00:00, 109.14it/s]\n",
      "finished release camel-2.11.0\n",
      "using model from groovy-1_5_7 to generate prediction of derby-10.5.1.1\n",
      "100% 1931/1931 [00:38<00:00, 50.30it/s]\n",
      "finished release derby-10.5.1.1\n",
      "using model from groovy-1_5_7 to generate prediction of hbase-0.95.2\n",
      "100% 1136/1136 [00:26<00:00, 42.99it/s]\n",
      "finished release hbase-0.95.2\n",
      "using model from groovy-1_5_7 to generate prediction of hive-0.12.0\n",
      "100% 2029/2029 [00:31<00:00, 64.62it/s] \n",
      "finished release hive-0.12.0\n",
      "using model from groovy-1_5_7 to generate prediction of jruby-1.5.0\n",
      "100% 1023/1023 [00:14<00:00, 71.22it/s]\n",
      "finished release jruby-1.5.0\n",
      "using model from groovy-1_5_7 to generate prediction of jruby-1.7.0.preview1\n",
      "100% 1438/1438 [00:20<00:00, 70.62it/s]\n",
      "finished release jruby-1.7.0.preview1\n",
      "using model from groovy-1_5_7 to generate prediction of lucene-3.0.0\n",
      "100% 977/977 [00:12<00:00, 80.95it/s] \n",
      "finished release lucene-3.0.0\n",
      "using model from groovy-1_5_7 to generate prediction of lucene-3.1\n",
      "100% 1813/1813 [00:20<00:00, 86.90it/s]\n",
      "finished release lucene-3.1\n",
      "using model from groovy-1_5_7 to generate prediction of wicket-1.5.3\n",
      "100% 1545/1545 [00:16<00:00, 96.30it/s]\n",
      "finished release wicket-1.5.3\n",
      "load Word2Vec for hbase finished\n",
      "/usr/local/lib/python3.9/dist-packages/torch/nn/modules/rnn.py:71: UserWarning: dropout option adds dropout after all but last recurrent layer, so non-zero dropout expects num_layers greater than 1, but got dropout=0.2 and num_layers=1\n",
      "  warnings.warn(\"dropout option adds dropout after all but last \"\n",
      "using model from hbase-0.94.0 to generate prediction of activemq-5.2.0\n",
      "100% 1286/1286 [00:13<00:00, 92.33it/s] \n",
      "finished release activemq-5.2.0\n",
      "using model from hbase-0.94.0 to generate prediction of activemq-5.3.0\n",
      "100% 1487/1487 [00:15<00:00, 96.71it/s] \n",
      "finished release activemq-5.3.0\n",
      "using model from hbase-0.94.0 to generate prediction of activemq-5.8.0\n",
      "100% 1927/1927 [00:19<00:00, 98.11it/s] \n",
      "finished release activemq-5.8.0\n",
      "using model from hbase-0.94.0 to generate prediction of camel-2.10.0\n",
      "100% 2559/2559 [00:21<00:00, 116.40it/s]\n",
      "finished release camel-2.10.0\n",
      "using model from hbase-0.94.0 to generate prediction of camel-2.11.0\n",
      "100% 2832/2832 [00:27<00:00, 102.20it/s]\n",
      "finished release camel-2.11.0\n",
      "using model from hbase-0.94.0 to generate prediction of derby-10.5.1.1\n",
      "100% 1931/1931 [00:36<00:00, 52.32it/s]\n",
      "finished release derby-10.5.1.1\n",
      "using model from hbase-0.94.0 to generate prediction of groovy-1_6_BETA_2\n",
      "100% 701/701 [00:07<00:00, 95.52it/s] \n",
      "finished release groovy-1_6_BETA_2\n",
      "using model from hbase-0.94.0 to generate prediction of hive-0.12.0\n",
      "100% 2029/2029 [00:30<00:00, 66.87it/s]\n",
      "finished release hive-0.12.0\n",
      "using model from hbase-0.94.0 to generate prediction of jruby-1.5.0\n",
      "100% 1023/1023 [00:13<00:00, 73.77it/s]\n",
      "finished release jruby-1.5.0\n",
      "using model from hbase-0.94.0 to generate prediction of jruby-1.7.0.preview1\n",
      "100% 1438/1438 [00:18<00:00, 75.98it/s]\n",
      "finished release jruby-1.7.0.preview1\n",
      "using model from hbase-0.94.0 to generate prediction of lucene-3.0.0\n",
      "100% 977/977 [00:12<00:00, 77.85it/s] \n",
      "finished release lucene-3.0.0\n",
      "using model from hbase-0.94.0 to generate prediction of lucene-3.1\n",
      "100% 1813/1813 [00:24<00:00, 75.21it/s]\n",
      "finished release lucene-3.1\n",
      "using model from hbase-0.94.0 to generate prediction of wicket-1.5.3\n",
      "100% 1545/1545 [00:43<00:00, 35.91it/s]\n",
      "finished release wicket-1.5.3\n",
      "load Word2Vec for hive finished\n",
      "/usr/local/lib/python3.9/dist-packages/torch/nn/modules/rnn.py:71: UserWarning: dropout option adds dropout after all but last recurrent layer, so non-zero dropout expects num_layers greater than 1, but got dropout=0.2 and num_layers=1\n",
      "  warnings.warn(\"dropout option adds dropout after all but last \"\n",
      "using model from hive-0.9.0 to generate prediction of activemq-5.2.0\n",
      "100% 1286/1286 [00:14<00:00, 89.86it/s] \n",
      "finished release activemq-5.2.0\n",
      "using model from hive-0.9.0 to generate prediction of activemq-5.3.0\n",
      "100% 1487/1487 [00:15<00:00, 93.89it/s]\n",
      "finished release activemq-5.3.0\n",
      "using model from hive-0.9.0 to generate prediction of activemq-5.8.0\n",
      "100% 1927/1927 [00:21<00:00, 90.82it/s]\n",
      "finished release activemq-5.8.0\n",
      "using model from hive-0.9.0 to generate prediction of camel-2.10.0\n",
      "100% 2559/2559 [00:24<00:00, 104.81it/s]\n",
      "finished release camel-2.10.0\n",
      "using model from hive-0.9.0 to generate prediction of camel-2.11.0\n",
      "100% 2832/2832 [00:25<00:00, 109.67it/s]\n",
      "finished release camel-2.11.0\n",
      "using model from hive-0.9.0 to generate prediction of derby-10.5.1.1\n",
      "100% 1931/1931 [00:38<00:00, 50.38it/s]\n",
      "finished release derby-10.5.1.1\n",
      "using model from hive-0.9.0 to generate prediction of groovy-1_6_BETA_2\n",
      "100% 701/701 [00:08<00:00, 83.58it/s]\n",
      "finished release groovy-1_6_BETA_2\n",
      "using model from hive-0.9.0 to generate prediction of hbase-0.95.2\n",
      "100% 1136/1136 [00:26<00:00, 43.02it/s]\n",
      "finished release hbase-0.95.2\n",
      "using model from hive-0.9.0 to generate prediction of jruby-1.5.0\n",
      "100% 1023/1023 [00:13<00:00, 73.67it/s]\n",
      "finished release jruby-1.5.0\n",
      "using model from hive-0.9.0 to generate prediction of jruby-1.7.0.preview1\n",
      "100% 1438/1438 [00:20<00:00, 69.47it/s]\n",
      "finished release jruby-1.7.0.preview1\n",
      "using model from hive-0.9.0 to generate prediction of lucene-3.0.0\n",
      "100% 977/977 [00:13<00:00, 74.13it/s]\n",
      "finished release lucene-3.0.0\n",
      "using model from hive-0.9.0 to generate prediction of lucene-3.1\n",
      "100% 1813/1813 [00:21<00:00, 84.77it/s] \n",
      "finished release lucene-3.1\n",
      "using model from hive-0.9.0 to generate prediction of wicket-1.5.3\n",
      "100% 1545/1545 [00:16<00:00, 92.03it/s]\n",
      "finished release wicket-1.5.3\n",
      "load Word2Vec for jruby finished\n",
      "/usr/local/lib/python3.9/dist-packages/torch/nn/modules/rnn.py:71: UserWarning: dropout option adds dropout after all but last recurrent layer, so non-zero dropout expects num_layers greater than 1, but got dropout=0.2 and num_layers=1\n",
      "  warnings.warn(\"dropout option adds dropout after all but last \"\n",
      "using model from jruby-1.1 to generate prediction of activemq-5.2.0\n",
      "100% 1286/1286 [00:14<00:00, 90.35it/s] \n",
      "finished release activemq-5.2.0\n",
      "using model from jruby-1.1 to generate prediction of activemq-5.3.0\n",
      "100% 1487/1487 [00:16<00:00, 91.91it/s]\n",
      "finished release activemq-5.3.0\n",
      "using model from jruby-1.1 to generate prediction of activemq-5.8.0\n",
      "100% 1927/1927 [00:20<00:00, 94.27it/s]\n",
      "finished release activemq-5.8.0\n",
      "using model from jruby-1.1 to generate prediction of camel-2.10.0\n",
      "100% 2559/2559 [00:24<00:00, 102.48it/s]\n",
      "finished release camel-2.10.0\n",
      "using model from jruby-1.1 to generate prediction of camel-2.11.0\n",
      "100% 2832/2832 [00:26<00:00, 107.54it/s]\n",
      "finished release camel-2.11.0\n",
      "using model from jruby-1.1 to generate prediction of derby-10.5.1.1\n",
      "100% 1931/1931 [00:39<00:00, 48.95it/s]\n",
      "finished release derby-10.5.1.1\n",
      "using model from jruby-1.1 to generate prediction of groovy-1_6_BETA_2\n",
      "100% 701/701 [00:09<00:00, 72.18it/s] \n",
      "finished release groovy-1_6_BETA_2\n",
      "using model from jruby-1.1 to generate prediction of hbase-0.95.2\n",
      "100% 1136/1136 [00:28<00:00, 39.75it/s]\n",
      "finished release hbase-0.95.2\n",
      "using model from jruby-1.1 to generate prediction of hive-0.12.0\n",
      "100% 2029/2029 [00:32<00:00, 62.06it/s] \n",
      "finished release hive-0.12.0\n",
      "using model from jruby-1.1 to generate prediction of lucene-3.0.0\n",
      "100% 977/977 [00:11<00:00, 84.45it/s]\n",
      "finished release lucene-3.0.0\n",
      "using model from jruby-1.1 to generate prediction of lucene-3.1\n",
      "100% 1813/1813 [00:21<00:00, 85.76it/s] \n",
      "finished release lucene-3.1\n",
      "using model from jruby-1.1 to generate prediction of wicket-1.5.3\n",
      "100% 1545/1545 [00:17<00:00, 90.61it/s]\n",
      "finished release wicket-1.5.3\n",
      "load Word2Vec for lucene finished\n",
      "/usr/local/lib/python3.9/dist-packages/torch/nn/modules/rnn.py:71: UserWarning: dropout option adds dropout after all but last recurrent layer, so non-zero dropout expects num_layers greater than 1, but got dropout=0.2 and num_layers=1\n",
      "  warnings.warn(\"dropout option adds dropout after all but last \"\n",
      "using model from lucene-2.3.0 to generate prediction of activemq-5.2.0\n",
      "100% 1286/1286 [00:12<00:00, 101.51it/s]\n",
      "finished release activemq-5.2.0\n",
      "using model from lucene-2.3.0 to generate prediction of activemq-5.3.0\n",
      "100% 1487/1487 [00:15<00:00, 94.79it/s] \n",
      "finished release activemq-5.3.0\n",
      "using model from lucene-2.3.0 to generate prediction of activemq-5.8.0\n",
      "100% 1927/1927 [00:22<00:00, 86.89it/s]\n",
      "finished release activemq-5.8.0\n",
      "using model from lucene-2.3.0 to generate prediction of camel-2.10.0\n",
      "100% 2559/2559 [00:24<00:00, 105.80it/s]\n",
      "finished release camel-2.10.0\n",
      "using model from lucene-2.3.0 to generate prediction of camel-2.11.0\n",
      "100% 2832/2832 [00:25<00:00, 112.56it/s]\n",
      "finished release camel-2.11.0\n",
      "using model from lucene-2.3.0 to generate prediction of derby-10.5.1.1\n",
      "100% 1931/1931 [00:39<00:00, 49.23it/s]\n",
      "finished release derby-10.5.1.1\n",
      "using model from lucene-2.3.0 to generate prediction of groovy-1_6_BETA_2\n",
      "100% 701/701 [00:09<00:00, 73.88it/s] \n",
      "finished release groovy-1_6_BETA_2\n",
      "using model from lucene-2.3.0 to generate prediction of hbase-0.95.2\n",
      "100% 1136/1136 [00:28<00:00, 40.55it/s]\n",
      "finished release hbase-0.95.2\n",
      "using model from lucene-2.3.0 to generate prediction of hive-0.12.0\n",
      "100% 2029/2029 [00:32<00:00, 62.39it/s] \n",
      "finished release hive-0.12.0\n",
      "using model from lucene-2.3.0 to generate prediction of jruby-1.5.0\n",
      "100% 1023/1023 [00:13<00:00, 73.26it/s]\n",
      "finished release jruby-1.5.0\n",
      "using model from lucene-2.3.0 to generate prediction of jruby-1.7.0.preview1\n",
      "100% 1438/1438 [00:19<00:00, 74.50it/s]\n",
      "finished release jruby-1.7.0.preview1\n",
      "using model from lucene-2.3.0 to generate prediction of wicket-1.5.3\n",
      "100% 1545/1545 [00:16<00:00, 93.50it/s]\n",
      "finished release wicket-1.5.3\n",
      "load Word2Vec for wicket finished\n",
      "/usr/local/lib/python3.9/dist-packages/torch/nn/modules/rnn.py:71: UserWarning: dropout option adds dropout after all but last recurrent layer, so non-zero dropout expects num_layers greater than 1, but got dropout=0.2 and num_layers=1\n",
      "  warnings.warn(\"dropout option adds dropout after all but last \"\n",
      "using model from wicket-1.3.0-incubating-beta-1 to generate prediction of activemq-5.2.0\n",
      "100% 1286/1286 [00:14<00:00, 91.52it/s] \n",
      "finished release activemq-5.2.0\n",
      "using model from wicket-1.3.0-incubating-beta-1 to generate prediction of activemq-5.3.0\n",
      "100% 1487/1487 [00:15<00:00, 97.80it/s]\n",
      "finished release activemq-5.3.0\n",
      "using model from wicket-1.3.0-incubating-beta-1 to generate prediction of activemq-5.8.0\n",
      "100% 1927/1927 [00:21<00:00, 91.73it/s]\n",
      "finished release activemq-5.8.0\n",
      "using model from wicket-1.3.0-incubating-beta-1 to generate prediction of camel-2.10.0\n",
      "100% 2559/2559 [00:25<00:00, 99.65it/s] \n",
      "finished release camel-2.10.0\n",
      "using model from wicket-1.3.0-incubating-beta-1 to generate prediction of camel-2.11.0\n",
      "100% 2832/2832 [00:24<00:00, 113.45it/s]\n",
      "finished release camel-2.11.0\n",
      "using model from wicket-1.3.0-incubating-beta-1 to generate prediction of derby-10.5.1.1\n",
      "100% 1931/1931 [00:39<00:00, 48.66it/s]\n",
      "finished release derby-10.5.1.1\n",
      "using model from wicket-1.3.0-incubating-beta-1 to generate prediction of groovy-1_6_BETA_2\n",
      "100% 701/701 [00:09<00:00, 75.04it/s] \n",
      "finished release groovy-1_6_BETA_2\n",
      "using model from wicket-1.3.0-incubating-beta-1 to generate prediction of hbase-0.95.2\n",
      "100% 1136/1136 [00:27<00:00, 40.78it/s]\n",
      "finished release hbase-0.95.2\n",
      "using model from wicket-1.3.0-incubating-beta-1 to generate prediction of hive-0.12.0\n",
      "100% 2029/2029 [00:32<00:00, 62.65it/s]\n",
      "finished release hive-0.12.0\n",
      "using model from wicket-1.3.0-incubating-beta-1 to generate prediction of jruby-1.5.0\n",
      "100% 1023/1023 [00:15<00:00, 68.19it/s]\n",
      "finished release jruby-1.5.0\n",
      "using model from wicket-1.3.0-incubating-beta-1 to generate prediction of jruby-1.7.0.preview1\n",
      "100% 1438/1438 [00:20<00:00, 69.63it/s]\n",
      "finished release jruby-1.7.0.preview1\n",
      "using model from wicket-1.3.0-incubating-beta-1 to generate prediction of lucene-3.0.0\n",
      "100% 977/977 [00:12<00:00, 76.59it/s]\n",
      "finished release lucene-3.0.0\n",
      "using model from wicket-1.3.0-incubating-beta-1 to generate prediction of lucene-3.1\n",
      "100% 1813/1813 [00:20<00:00, 86.92it/s] \n",
      "finished release lucene-3.1\n"
     ]
    }
   ],
   "source": [
    "!python generate_prediction_cross_projects.py -dataset activemq\n",
    "!python generate_prediction_cross_projects.py -dataset camel\n",
    "!python generate_prediction_cross_projects.py -dataset derby\n",
    "!python generate_prediction_cross_projects.py -dataset groovy\n",
    "!python generate_prediction_cross_projects.py -dataset hbase\n",
    "!python generate_prediction_cross_projects.py -dataset hive\n",
    "!python generate_prediction_cross_projects.py -dataset jruby\n",
    "!python generate_prediction_cross_projects.py -dataset lucene\n",
    "!python generate_prediction_cross_projects.py -dataset wicket"
   ]
  },
  {
   "cell_type": "markdown",
   "source": [
    "## Setup for running R script (creating graphs)\n",
    "rpy2 is a library that makes it possible to run R scripts and code from jupyter notebook. To better understand the following setup and installation go to\n",
    "[this site](https://rpy2.github.io/doc/latest/html/interactive.html)."
   ],
   "metadata": {
    "id": "T-pmaqoCXNNk"
   }
  },
  {
   "cell_type": "code",
   "execution_count": null,
   "metadata": {
    "colab": {
     "base_uri": "https://localhost:8080/"
    },
    "id": "QBXZcfcaBJzh",
    "outputId": "d3a326ce-d95d-4e81-b9ac-167bb207db41",
    "pycharm": {
     "is_executing": true
    }
   },
   "outputs": [],
   "source": [
    "!pip install rpy2==3.5.1\n",
    "%load_ext rpy2.ipython"
   ]
  },
  {
   "cell_type": "markdown",
   "source": [
    "## Installing R packages - 25 min\n",
    "Before this step reload might be required."
   ],
   "metadata": {
    "id": "PVK_4UDwjdbt"
   }
  },
  {
   "cell_type": "code",
   "source": [
    "# if restart was needed remember to change working directory\n",
    "# %cd /content/drive/MyDrive/M6/DeepLineDP/script"
   ],
   "metadata": {
    "id": "vrKEkVHbrwTW"
   },
   "execution_count": null,
   "outputs": []
  },
  {
   "cell_type": "code",
   "execution_count": null,
   "metadata": {
    "colab": {
     "base_uri": "https://localhost:8080/"
    },
    "id": "RBP9HOLrBY8L",
    "outputId": "a18521ad-80cd-48e0-e7ea-01ba7e1bb66c",
    "pycharm": {
     "is_executing": true
    }
   },
   "outputs": [],
   "source": [
    "# some warning might occure during installation\n",
    "%R install.packages(\"tidyverse\", dependencies=TRUE)\n",
    "%R install.packages(\"gridExtra\", dependencies=TRUE)\n",
    "%R install.packages(\"ModelMetrics\", dependencies=TRUE)\n",
    "%R install.packages(\"caret\", dependencies=TRUE)\n",
    "%R install.packages(\"reshape2\", dependencies=TRUE)\n",
    "%R install.packages(\"pROC\", dependencies=TRUE)\n",
    "%R install.packages(\"effsize\", dependencies=TRUE)\n",
    "%R install.packages(\"ScottKnottESD\", dependencies=TRUE)"
   ]
  },
  {
   "cell_type": "markdown",
   "source": [
    "## get_evaluation_result.R - 3 min\n",
    "The results from running this script are saved in `/content/drive/MyDrive/M6/DeepLineDP/output/figure/` (graphs as .pdf files)."
   ],
   "metadata": {
    "id": "dQgvrEszYcIv"
   }
  },
  {
   "cell_type": "code",
   "execution_count": 4,
   "metadata": {
    "colab": {
     "base_uri": "https://localhost:8080/"
    },
    "id": "d9OCA0AQQcjf",
    "outputId": "6c6cd342-a33b-4c6f-e459-df4294eadef9"
   },
   "outputs": [
    {
     "output_type": "stream",
     "name": "stdout",
     "text": [
      "\u001B[0;1;31mSystem has not been booted with systemd as init system (PID 1). Can't operate.\u001B[0m\n",
      "\u001B[0;1;31mFailed to create bus connection: Host is down\u001B[0m\n",
      "── \u001B[1mAttaching packages\u001B[22m ─────────────────────────────────────── tidyverse 1.3.1 ──\n",
      "\u001B[32m✔\u001B[39m \u001B[34mggplot2\u001B[39m 3.4.1     \u001B[32m✔\u001B[39m \u001B[34mpurrr  \u001B[39m 1.0.1\n",
      "\u001B[32m✔\u001B[39m \u001B[34mtibble \u001B[39m 3.2.1     \u001B[32m✔\u001B[39m \u001B[34mdplyr  \u001B[39m 1.1.1\n",
      "\u001B[32m✔\u001B[39m \u001B[34mtidyr  \u001B[39m 1.3.0     \u001B[32m✔\u001B[39m \u001B[34mstringr\u001B[39m 1.5.0\n",
      "\u001B[32m✔\u001B[39m \u001B[34mreadr  \u001B[39m 2.1.4     \u001B[32m✔\u001B[39m \u001B[34mforcats\u001B[39m 1.0.0\n",
      "── \u001B[1mConflicts\u001B[22m ────────────────────────────────────────── tidyverse_conflicts() ──\n",
      "\u001B[31m✖\u001B[39m \u001B[34mdplyr\u001B[39m::\u001B[32mfilter()\u001B[39m masks \u001B[34mstats\u001B[39m::filter()\n",
      "\u001B[31m✖\u001B[39m \u001B[34mdplyr\u001B[39m::\u001B[32mlag()\u001B[39m    masks \u001B[34mstats\u001B[39m::lag()\n",
      "Warning message:\n",
      "In system(\"timedatectl\", intern = TRUE) :\n",
      "  running command 'timedatectl' had status 1\n",
      "\u001B[?25h\n",
      "Attaching package: ‘gridExtra’\n",
      "\n",
      "The following object is masked from ‘package:dplyr’:\n",
      "\n",
      "    combine\n",
      "\n",
      "\u001B[?25h\n",
      "Attaching package: ‘ModelMetrics’\n",
      "\n",
      "The following object is masked from ‘package:base’:\n",
      "\n",
      "    kappa\n",
      "\n",
      "\u001B[?25hLoading required package: lattice\n",
      "\n",
      "Attaching package: ‘caret’\n",
      "\n",
      "The following objects are masked from ‘package:ModelMetrics’:\n",
      "\n",
      "    confusionMatrix, precision, recall, sensitivity, specificity\n",
      "\n",
      "The following object is masked from ‘package:purrr’:\n",
      "\n",
      "    lift\n",
      "\n",
      "\u001B[?25h\n",
      "Attaching package: ‘reshape2’\n",
      "\n",
      "The following object is masked from ‘package:tidyr’:\n",
      "\n",
      "    smiths\n",
      "\n",
      "\u001B[?25hType 'citation(\"pROC\")' for a citation.\n",
      "\n",
      "Attaching package: ‘pROC’\n",
      "\n",
      "The following object is masked from ‘package:ModelMetrics’:\n",
      "\n",
      "    auc\n",
      "\n",
      "The following objects are masked from ‘package:stats’:\n",
      "\n",
      "    cov, smooth, var\n",
      "\n",
      "\u001B[?25h\u001B[?25hLoading required package: car\n",
      "Loading required package: carData\n",
      "\n",
      "Attaching package: ‘car’\n",
      "\n",
      "The following object is masked from ‘package:dplyr’:\n",
      "\n",
      "    recode\n",
      "\n",
      "The following object is masked from ‘package:purrr’:\n",
      "\n",
      "    some\n",
      "\n",
      "Registered S3 method overwritten by 'quantmod':\n",
      "  method            from\n",
      "  as.zoo.data.frame zoo \n",
      "\u001B[?25h\u001B[?25h\u001B[?25h\u001B[?25h\u001B[?25h\u001B[?25h\u001B[?25h\u001B[?25h\u001B[?25h\u001B[1m\u001B[22m`summarise()` has grouped output by 'test', 'filename'. You can override using\n",
      "the `.groups` argument.\n",
      "Using test, filename, token as id variables\n",
      "\u001B[?25hWarning message:\n",
      "\u001B[1m\u001B[22mRemoved 60045 rows containing non-finite values (`stat_boxplot()`). \n",
      "\u001B[?25hWarning message:\n",
      "\u001B[1m\u001B[22mRemoved 60045 rows containing non-finite values (`stat_boxplot()`). \n",
      "\u001B[?25hWarning message:\n",
      "\u001B[1m\u001B[22mRemoved 60045 rows containing non-finite values (`stat_boxplot()`). \n",
      "\u001B[?25h\u001B[?25h\u001B[?25h\u001B[?25h\u001B[?25h\u001B[1m\u001B[22m`summarise()` has grouped output by 'test', 'filename'. You can override using\n",
      "the `.groups` argument.\n",
      "\u001B[?25h\u001B[?25h\u001B[1m\u001B[22m`summarise()` has grouped output by 'test', 'filename'. You can override using\n",
      "the `.groups` argument.\n",
      "\u001B[?25h\u001B[?25h\u001B[?25h\u001B[?25h\u001B[?25h\u001B[?25h\u001B[?25hWarning messages:\n",
      "1: In n1 * n2 : NAs produced by integer overflow\n",
      "2: In n1 * n2 : NAs produced by integer overflow\n",
      "\u001B[?25h\u001B[?25h"
     ]
    }
   ],
   "source": [
    "!Rscript get_evaluation_result.R"
   ]
  },
  {
   "cell_type": "code",
   "source": [
    "from IPython.display import Image, display\n",
    "\n",
    "figures = '/content/drive/MyDrive/M6/DeepLineDP/output/figure'\n",
    "listOfImageNames = [figures + '/rq1-1.png',\n",
    "                    figures + '/rq1-2.png']\n",
    "\n",
    "for imageName in listOfImageNames:\n",
    "  print(imageName)\n",
    "  display(Image(filename=imageName))"
   ],
   "metadata": {
    "colab": {
     "base_uri": "https://localhost:8080/",
     "height": 1000
    },
    "id": "M6G1WGOIx_sJ",
    "outputId": "fb8a53a7-c77f-4fed-d5a8-22eea7362288"
   },
   "execution_count": 5,
   "outputs": [
    {
     "output_type": "stream",
     "name": "stdout",
     "text": [
      "/content/drive/MyDrive/M6/DeepLineDP/output/figure/rq1-1.png\n"
     ]
    },
    {
     "output_type": "display_data",
     "data": {
      "image/png": "[encoded data removed]",
      "text/plain": [
       "<IPython.core.display.Image object>"
      ]
     },
     "metadata": {}
    },
    {
     "output_type": "stream",
     "name": "stdout",
     "text": [
      "/content/drive/MyDrive/M6/DeepLineDP/output/figure/rq1-2.png\n"
     ]
    },
    {
     "output_type": "display_data",
     "data": {
      "image/png": "[encoded data removed]",
      "text/plain": [
       "<IPython.core.display.Image object>"
      ]
     },
     "metadata": {}
    }
   ]
  }
 ],
 "metadata": {
  "accelerator": "GPU",
  "colab": {
   "provenance": []
  },
  "gpuClass": "standard",
  "kernelspec": {
   "display_name": "Python 3",
   "name": "python3"
  },
  "language_info": {
   "name": "python"
  }
 },
 "nbformat": 4,
 "nbformat_minor": 0
}
